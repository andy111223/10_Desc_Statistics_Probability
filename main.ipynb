{
 "cells": [
  {
   "cell_type": "code",
   "execution_count": 102,
   "metadata": {},
   "outputs": [
    {
     "data": {
      "text/html": [
       "<div>\n",
       "<style scoped>\n",
       "    .dataframe tbody tr th:only-of-type {\n",
       "        vertical-align: middle;\n",
       "    }\n",
       "\n",
       "    .dataframe tbody tr th {\n",
       "        vertical-align: top;\n",
       "    }\n",
       "\n",
       "    .dataframe thead th {\n",
       "        text-align: right;\n",
       "    }\n",
       "</style>\n",
       "<table border=\"1\" class=\"dataframe\">\n",
       "  <thead>\n",
       "    <tr style=\"text-align: right;\">\n",
       "      <th></th>\n",
       "      <th>PassengerId</th>\n",
       "      <th>Survived</th>\n",
       "      <th>Pclass</th>\n",
       "      <th>Name</th>\n",
       "      <th>Sex</th>\n",
       "      <th>Age</th>\n",
       "      <th>SibSp</th>\n",
       "      <th>Parch</th>\n",
       "      <th>Ticket</th>\n",
       "      <th>Fare</th>\n",
       "      <th>Cabin</th>\n",
       "      <th>Embarked</th>\n",
       "    </tr>\n",
       "  </thead>\n",
       "  <tbody>\n",
       "    <tr>\n",
       "      <th>0</th>\n",
       "      <td>1</td>\n",
       "      <td>0</td>\n",
       "      <td>3</td>\n",
       "      <td>Braund, Mr. Owen Harris</td>\n",
       "      <td>male</td>\n",
       "      <td>22.0</td>\n",
       "      <td>1</td>\n",
       "      <td>0</td>\n",
       "      <td>A/5 21171</td>\n",
       "      <td>7.2500</td>\n",
       "      <td>NaN</td>\n",
       "      <td>S</td>\n",
       "    </tr>\n",
       "    <tr>\n",
       "      <th>1</th>\n",
       "      <td>2</td>\n",
       "      <td>1</td>\n",
       "      <td>1</td>\n",
       "      <td>Cumings, Mrs. John Bradley (Florence Briggs Th...</td>\n",
       "      <td>female</td>\n",
       "      <td>38.0</td>\n",
       "      <td>1</td>\n",
       "      <td>0</td>\n",
       "      <td>PC 17599</td>\n",
       "      <td>71.2833</td>\n",
       "      <td>C85</td>\n",
       "      <td>C</td>\n",
       "    </tr>\n",
       "    <tr>\n",
       "      <th>2</th>\n",
       "      <td>3</td>\n",
       "      <td>1</td>\n",
       "      <td>3</td>\n",
       "      <td>Heikkinen, Miss. Laina</td>\n",
       "      <td>female</td>\n",
       "      <td>26.0</td>\n",
       "      <td>0</td>\n",
       "      <td>0</td>\n",
       "      <td>STON/O2. 3101282</td>\n",
       "      <td>7.9250</td>\n",
       "      <td>NaN</td>\n",
       "      <td>S</td>\n",
       "    </tr>\n",
       "    <tr>\n",
       "      <th>3</th>\n",
       "      <td>4</td>\n",
       "      <td>1</td>\n",
       "      <td>1</td>\n",
       "      <td>Futrelle, Mrs. Jacques Heath (Lily May Peel)</td>\n",
       "      <td>female</td>\n",
       "      <td>35.0</td>\n",
       "      <td>1</td>\n",
       "      <td>0</td>\n",
       "      <td>113803</td>\n",
       "      <td>53.1000</td>\n",
       "      <td>C123</td>\n",
       "      <td>S</td>\n",
       "    </tr>\n",
       "    <tr>\n",
       "      <th>4</th>\n",
       "      <td>5</td>\n",
       "      <td>0</td>\n",
       "      <td>3</td>\n",
       "      <td>Allen, Mr. William Henry</td>\n",
       "      <td>male</td>\n",
       "      <td>35.0</td>\n",
       "      <td>0</td>\n",
       "      <td>0</td>\n",
       "      <td>373450</td>\n",
       "      <td>8.0500</td>\n",
       "      <td>NaN</td>\n",
       "      <td>S</td>\n",
       "    </tr>\n",
       "    <tr>\n",
       "      <th>...</th>\n",
       "      <td>...</td>\n",
       "      <td>...</td>\n",
       "      <td>...</td>\n",
       "      <td>...</td>\n",
       "      <td>...</td>\n",
       "      <td>...</td>\n",
       "      <td>...</td>\n",
       "      <td>...</td>\n",
       "      <td>...</td>\n",
       "      <td>...</td>\n",
       "      <td>...</td>\n",
       "      <td>...</td>\n",
       "    </tr>\n",
       "    <tr>\n",
       "      <th>886</th>\n",
       "      <td>887</td>\n",
       "      <td>0</td>\n",
       "      <td>2</td>\n",
       "      <td>Montvila, Rev. Juozas</td>\n",
       "      <td>male</td>\n",
       "      <td>27.0</td>\n",
       "      <td>0</td>\n",
       "      <td>0</td>\n",
       "      <td>211536</td>\n",
       "      <td>13.0000</td>\n",
       "      <td>NaN</td>\n",
       "      <td>S</td>\n",
       "    </tr>\n",
       "    <tr>\n",
       "      <th>887</th>\n",
       "      <td>888</td>\n",
       "      <td>1</td>\n",
       "      <td>1</td>\n",
       "      <td>Graham, Miss. Margaret Edith</td>\n",
       "      <td>female</td>\n",
       "      <td>19.0</td>\n",
       "      <td>0</td>\n",
       "      <td>0</td>\n",
       "      <td>112053</td>\n",
       "      <td>30.0000</td>\n",
       "      <td>B42</td>\n",
       "      <td>S</td>\n",
       "    </tr>\n",
       "    <tr>\n",
       "      <th>888</th>\n",
       "      <td>889</td>\n",
       "      <td>0</td>\n",
       "      <td>3</td>\n",
       "      <td>Johnston, Miss. Catherine Helen \"Carrie\"</td>\n",
       "      <td>female</td>\n",
       "      <td>NaN</td>\n",
       "      <td>1</td>\n",
       "      <td>2</td>\n",
       "      <td>W./C. 6607</td>\n",
       "      <td>23.4500</td>\n",
       "      <td>NaN</td>\n",
       "      <td>S</td>\n",
       "    </tr>\n",
       "    <tr>\n",
       "      <th>889</th>\n",
       "      <td>890</td>\n",
       "      <td>1</td>\n",
       "      <td>1</td>\n",
       "      <td>Behr, Mr. Karl Howell</td>\n",
       "      <td>male</td>\n",
       "      <td>26.0</td>\n",
       "      <td>0</td>\n",
       "      <td>0</td>\n",
       "      <td>111369</td>\n",
       "      <td>30.0000</td>\n",
       "      <td>C148</td>\n",
       "      <td>C</td>\n",
       "    </tr>\n",
       "    <tr>\n",
       "      <th>890</th>\n",
       "      <td>891</td>\n",
       "      <td>0</td>\n",
       "      <td>3</td>\n",
       "      <td>Dooley, Mr. Patrick</td>\n",
       "      <td>male</td>\n",
       "      <td>32.0</td>\n",
       "      <td>0</td>\n",
       "      <td>0</td>\n",
       "      <td>370376</td>\n",
       "      <td>7.7500</td>\n",
       "      <td>NaN</td>\n",
       "      <td>Q</td>\n",
       "    </tr>\n",
       "  </tbody>\n",
       "</table>\n",
       "<p>891 rows × 12 columns</p>\n",
       "</div>"
      ],
      "text/plain": [
       "     PassengerId  Survived  Pclass  \\\n",
       "0              1         0       3   \n",
       "1              2         1       1   \n",
       "2              3         1       3   \n",
       "3              4         1       1   \n",
       "4              5         0       3   \n",
       "..           ...       ...     ...   \n",
       "886          887         0       2   \n",
       "887          888         1       1   \n",
       "888          889         0       3   \n",
       "889          890         1       1   \n",
       "890          891         0       3   \n",
       "\n",
       "                                                  Name     Sex   Age  SibSp  \\\n",
       "0                              Braund, Mr. Owen Harris    male  22.0      1   \n",
       "1    Cumings, Mrs. John Bradley (Florence Briggs Th...  female  38.0      1   \n",
       "2                               Heikkinen, Miss. Laina  female  26.0      0   \n",
       "3         Futrelle, Mrs. Jacques Heath (Lily May Peel)  female  35.0      1   \n",
       "4                             Allen, Mr. William Henry    male  35.0      0   \n",
       "..                                                 ...     ...   ...    ...   \n",
       "886                              Montvila, Rev. Juozas    male  27.0      0   \n",
       "887                       Graham, Miss. Margaret Edith  female  19.0      0   \n",
       "888           Johnston, Miss. Catherine Helen \"Carrie\"  female   NaN      1   \n",
       "889                              Behr, Mr. Karl Howell    male  26.0      0   \n",
       "890                                Dooley, Mr. Patrick    male  32.0      0   \n",
       "\n",
       "     Parch            Ticket     Fare Cabin Embarked  \n",
       "0        0         A/5 21171   7.2500   NaN        S  \n",
       "1        0          PC 17599  71.2833   C85        C  \n",
       "2        0  STON/O2. 3101282   7.9250   NaN        S  \n",
       "3        0            113803  53.1000  C123        S  \n",
       "4        0            373450   8.0500   NaN        S  \n",
       "..     ...               ...      ...   ...      ...  \n",
       "886      0            211536  13.0000   NaN        S  \n",
       "887      0            112053  30.0000   B42        S  \n",
       "888      2        W./C. 6607  23.4500   NaN        S  \n",
       "889      0            111369  30.0000  C148        C  \n",
       "890      0            370376   7.7500   NaN        Q  \n",
       "\n",
       "[891 rows x 12 columns]"
      ]
     },
     "execution_count": 102,
     "metadata": {},
     "output_type": "execute_result"
    }
   ],
   "source": [
    "# manipulacja danymi\n",
    "import numpy as np\n",
    "import pandas as pd\n",
    "\n",
    "# wizualizacja danych\n",
    "import matplotlib.pyplot as plt\n",
    "import seaborn as sns\n",
    "\n",
    "# statystyczna analiza danych\n",
    "from scipy import stats\n",
    "\n",
    "# przygotowanie danych\n",
    "from sklearn.preprocessing import StandardScaler, MinMaxScaler\n",
    "dataset = pd.read_csv('titanic.csv')\n",
    "dataset"
   ]
  },
  {
   "cell_type": "code",
   "execution_count": 103,
   "metadata": {},
   "outputs": [
    {
     "data": {
      "text/plain": [
       "(714,)"
      ]
     },
     "execution_count": 103,
     "metadata": {},
     "output_type": "execute_result"
    }
   ],
   "source": [
    "age_values = dataset.loc[dataset['Age'].notnull(), 'Age'].values\n",
    "age_values.shape"
   ]
  },
  {
   "cell_type": "code",
   "execution_count": 104,
   "metadata": {},
   "outputs": [
    {
     "data": {
      "image/png": "[encoded data removed]",
      "text/plain": [
       "<Figure size 640x480 with 1 Axes>"
      ]
     },
     "metadata": {},
     "output_type": "display_data"
    }
   ],
   "source": [
    "plt.hist(age_values, bins=20)\n",
    "plt.show()"
   ]
  },
  {
   "cell_type": "code",
   "execution_count": 105,
   "metadata": {},
   "outputs": [
    {
     "data": {
      "text/plain": [
       "np.float64(30.0)"
      ]
     },
     "execution_count": 105,
     "metadata": {},
     "output_type": "execute_result"
    }
   ],
   "source": [
    "mean_age = np.round(np.mean(age_values))\n",
    "mean_age"
   ]
  },
  {
   "cell_type": "code",
   "execution_count": 106,
   "metadata": {},
   "outputs": [
    {
     "data": {
      "image/png": "[encoded data removed]",
      "text/plain": [
       "<Figure size 640x480 with 1 Axes>"
      ]
     },
     "metadata": {},
     "output_type": "display_data"
    }
   ],
   "source": [
    "plt.hist(age_values,bins=20)\n",
    "plt.axvline(x=mean_age,color='red',label='Mean')\n",
    "plt.legend(loc='upper right')\n",
    "plt.show()"
   ]
  },
  {
   "cell_type": "code",
   "execution_count": 107,
   "metadata": {},
   "outputs": [
    {
     "data": {
      "text/plain": [
       "np.float64(28.0)"
      ]
     },
     "execution_count": 107,
     "metadata": {},
     "output_type": "execute_result"
    }
   ],
   "source": [
    "median_age = np.median(age_values)\n",
    "median_age"
   ]
  },
  {
   "cell_type": "code",
   "execution_count": 108,
   "metadata": {},
   "outputs": [
    {
     "data": {
      "image/png": "[encoded data removed]",
      "text/plain": [
       "<Figure size 640x480 with 1 Axes>"
      ]
     },
     "metadata": {},
     "output_type": "display_data"
    }
   ],
   "source": [
    "plt.hist(age_values,bins=20)\n",
    "plt.axvline(x=mean_age,color='red',label='Mean')\n",
    "plt.axvline(x=median_age,color='orange',label='Median')\n",
    "plt.legend(loc='upper right')\n",
    "plt.show()"
   ]
  },
  {
   "cell_type": "code",
   "execution_count": 109,
   "metadata": {},
   "outputs": [
    {
     "data": {
      "text/plain": [
       "ModeResult(mode=np.float64(24.0), count=np.int64(30))"
      ]
     },
     "execution_count": 109,
     "metadata": {},
     "output_type": "execute_result"
    }
   ],
   "source": [
    "mode_age = stats.mode(age_values)\n",
    "mode_age"
   ]
  },
  {
   "cell_type": "code",
   "execution_count": 110,
   "metadata": {},
   "outputs": [
    {
     "data": {
      "image/png": "[encoded data removed]",
      "text/plain": [
       "<Figure size 640x480 with 1 Axes>"
      ]
     },
     "metadata": {},
     "output_type": "display_data"
    }
   ],
   "source": [
    "plt.hist(age_values,bins=20)\n",
    "plt.axvline(x=mean_age,color='red',label='Mean')\n",
    "plt.axvline(x=median_age,color='orange',label='Median')\n",
    "plt.axvline(x=mode_age[0],color='pink',label='Mode') # The mode result is in tuple at index 0: ModeResult(mode=np.float64(24.0), count=np.int64(30))\n",
    "plt.legend(loc='upper right')\n",
    "plt.show()"
   ]
  },
  {
   "cell_type": "code",
   "execution_count": 111,
   "metadata": {},
   "outputs": [
    {
     "name": "stdout",
     "output_type": "stream",
     "text": [
      "Q0: 0.42\n",
      "Q1: 20.0\n",
      "Q2: 28.0\n",
      "Q2: 28.0\n",
      "Q3: 38.0\n",
      "Q4: 80.0\n"
     ]
    }
   ],
   "source": [
    "q0 = np.quantile(age_values, 0.0)\n",
    "q1 = np.round(np.quantile(age_values, 0.25))\n",
    "q2 = np.round(np.quantile(age_values, 0.5))\n",
    "q3 = np.round(np.quantile(age_values, 0.75))\n",
    "q4 = np.round(np.quantile(age_values, 1))\n",
    "print(f\"Q0: {q0}\")\n",
    "print(f\"Q1: {q1}\")\n",
    "print(f\"Q2: {median_age}\")\n",
    "print(f\"Q2: {q2}\")\n",
    "print(f\"Q3: {q3}\")\n",
    "print(f\"Q4: {q4}\")\n"
   ]
  },
  {
   "cell_type": "code",
   "execution_count": 112,
   "metadata": {},
   "outputs": [
    {
     "data": {
      "image/png": "[encoded data removed]",
      "text/plain": [
       "<Figure size 640x480 with 1 Axes>"
      ]
     },
     "metadata": {},
     "output_type": "display_data"
    }
   ],
   "source": [
    "plt.hist(age_values,bins=20)\n",
    "plt.axvline(x=mean_age,color='red',label='Mean')\n",
    "plt.axvline(x=median_age,color='orange',label='Median')\n",
    "plt.axvline(x=mode_age[0],color='pink',label='Mode') \n",
    "plt.axvline(x=q0,color='black',label='Min')\n",
    "plt.axvline(x=q1,color='black',label='Q1')\n",
    "plt.axvline(x=q3,color='black',label='Q3')\n",
    "plt.axvline(x=q4,color='black',label='Max')\n",
    "plt.legend(loc='upper right')\n",
    "plt.show()"
   ]
  },
  {
   "cell_type": "code",
   "execution_count": 113,
   "metadata": {},
   "outputs": [
    {
     "data": {
      "text/plain": [
       "np.float64(79.58)"
      ]
     },
     "execution_count": 113,
     "metadata": {},
     "output_type": "execute_result"
    }
   ],
   "source": [
    "range_age = max(age_values) - min(age_values)\n",
    "range_age"
   ]
  },
  {
   "cell_type": "code",
   "execution_count": 114,
   "metadata": {},
   "outputs": [
    {
     "data": {
      "text/plain": [
       "np.float64(18.0)"
      ]
     },
     "execution_count": 114,
     "metadata": {},
     "output_type": "execute_result"
    }
   ],
   "source": [
    "# Inter Quartile Range\n",
    "iqr = q3-q1\n",
    "iqr"
   ]
  },
  {
   "cell_type": "markdown",
   "metadata": {},
   "source": [
    "### BoxPlot -> Q1 - 1.5 x IQR  |  IQR  | Q3 + 1.5 x IQR\n",
    "If min or max value is less than 1.5x then, the whisker of boxplot is shorter. Values outside 1.5x are outliers"
   ]
  },
  {
   "cell_type": "code",
   "execution_count": 115,
   "metadata": {},
   "outputs": [
    {
     "data": {
      "image/png": "[encoded data removed]",
      "text/plain": [
       "<Figure size 640x480 with 1 Axes>"
      ]
     },
     "metadata": {},
     "output_type": "display_data"
    }
   ],
   "source": [
    "plt.boxplot(age_values)\n",
    "plt.show()"
   ]
  },
  {
   "cell_type": "code",
   "execution_count": 116,
   "metadata": {},
   "outputs": [
    {
     "data": {
      "text/plain": [
       "np.float64(211.01912474630805)"
      ]
     },
     "execution_count": 116,
     "metadata": {},
     "output_type": "execute_result"
    }
   ],
   "source": [
    "variance_age = np.var(age_values, ddof=1) # Delta Degrees of Freedom\n",
    "variance_age"
   ]
  },
  {
   "cell_type": "code",
   "execution_count": 117,
   "metadata": {},
   "outputs": [
    {
     "data": {
      "text/plain": [
       "np.float64(14.526497332334042)"
      ]
     },
     "execution_count": 117,
     "metadata": {},
     "output_type": "execute_result"
    }
   ],
   "source": [
    "variance_age**(1/2)"
   ]
  },
  {
   "cell_type": "code",
   "execution_count": 118,
   "metadata": {},
   "outputs": [
    {
     "data": {
      "text/plain": [
       "np.float64(14.526497332334042)"
      ]
     },
     "execution_count": 118,
     "metadata": {},
     "output_type": "execute_result"
    }
   ],
   "source": [
    "standard_deviation_age = np.std(age_values, ddof=1)\n",
    "standard_deviation_age"
   ]
  },
  {
   "cell_type": "code",
   "execution_count": 119,
   "metadata": {},
   "outputs": [
    {
     "data": {
      "image/png": "[encoded data removed]",
      "text/plain": [
       "<Figure size 640x480 with 1 Axes>"
      ]
     },
     "metadata": {},
     "output_type": "display_data"
    }
   ],
   "source": [
    "sibsp_values = dataset.loc[dataset['Age'].notnull(),'SibSp'].values\n",
    "plt.scatter(x=age_values,y=sibsp_values, alpha=0.5)\n",
    "plt.xlabel('Age')\n",
    "plt.ylabel('SibSp')\n",
    "plt.show()"
   ]
  },
  {
   "cell_type": "code",
   "execution_count": 120,
   "metadata": {},
   "outputs": [
    {
     "data": {
      "text/plain": [
       "PearsonRResult(statistic=np.float64(-0.30824675892365666), pvalue=np.float64(3.509025193784474e-17))"
      ]
     },
     "execution_count": 120,
     "metadata": {},
     "output_type": "execute_result"
    }
   ],
   "source": [
    "stats.pearsonr(age_values,sibsp_values)"
   ]
  },
  {
   "cell_type": "code",
   "execution_count": 121,
   "metadata": {},
   "outputs": [
    {
     "data": {
      "text/plain": [
       "np.float64(3.509025193784474e-17)"
      ]
     },
     "execution_count": 121,
     "metadata": {},
     "output_type": "execute_result"
    }
   ],
   "source": [
    "# P-value\n",
    "stats.pearsonr(age_values,sibsp_values)[1]"
   ]
  },
  {
   "cell_type": "markdown",
   "metadata": {},
   "source": [
    "# Bayes Theorem\n",
    "\n",
    "$$ P(A|B) = \\frac{P(B|A) \\times P(A)}{P(B)} $$"
   ]
  },
  {
   "cell_type": "code",
   "execution_count": 122,
   "metadata": {},
   "outputs": [],
   "source": [
    "def bayes_theorem(p_a, p_b_given_a, p_b):\n",
    "    p_a_given_b = (p_a * p_b_given_a) / p_b\n",
    "    return p_a_given_b"
   ]
  },
  {
   "cell_type": "code",
   "execution_count": 123,
   "metadata": {},
   "outputs": [
    {
     "name": "stdout",
     "output_type": "stream",
     "text": [
      "P(A|B) is 14.00%\n"
     ]
    }
   ],
   "source": [
    "# CASE 1. Given that:\n",
    "\n",
    "# P(A) 10% of patients have liver disease\n",
    "p_a = 0.1\n",
    "\n",
    "# P(B|A) 7% of patiens with liver disease are alcoholics\n",
    "p_b_given_a = 0.07\n",
    "\n",
    "# P(B) 5% of papients are alcoholics\n",
    "p_b = 0.05\n",
    "\n",
    "# Calc P(A|B)\n",
    "result = bayes_theorem(p_a,p_b_given_a,p_b)\n",
    "print(f\"P(A|B) is %.2f%%\" % (result * 100))"
   ]
  },
  {
   "cell_type": "code",
   "execution_count": 124,
   "metadata": {},
   "outputs": [
    {
     "name": "stdout",
     "output_type": "stream",
     "text": [
      "P(B|A) = 50.00% of buyers who purchased an alarm system also purchased bucket seats.\n",
      "P(A|B) = 66.67% of buyers who purchased bucket seats also purchased an alarm system.\n"
     ]
    }
   ],
   "source": [
    "# CASE 2. Given that:\n",
    "\n",
    "# P(A) 40% customers purchased an alarm system\n",
    "p_a = 0.4\n",
    "\n",
    "# P(A ∩ B): Probability of buying both an alarm system and bucket seats.\n",
    "p_a_and_b = 0.2\n",
    "\n",
    "# P(B) 30% purchased a bucket seat\n",
    "p_b = 0.3\n",
    "\n",
    "# Calc P(B|A) Probability of buying bucket seats given that the buyer has already bought an alarm system.\n",
    "p_b_given_a = p_a_and_b / p_a\n",
    "print('P(B|A) = %.2f%% of buyers who purchased an alarm system also purchased bucket seats.' % (p_b_given_a * 100))\n",
    "\n",
    "p_a_given_b = bayes_theorem(p_a,p_b_given_a,p_b)\n",
    "print(f'P(A|B) = %.2f%% of buyers who purchased bucket seats also purchased an alarm system.' % (p_a_given_b * 100))"
   ]
  },
  {
   "cell_type": "markdown",
   "metadata": {},
   "source": [
    "# Bernouli"
   ]
  },
  {
   "cell_type": "markdown",
   "metadata": {},
   "source": [
    "Purpose:\n",
    " - Simulate n Bernoulli trials with probability p of success (1).\n",
    " - Calculate the empirical probabilities of outcomes 0 (failure) and 1 (success) based on the simulation."
   ]
  },
  {
   "cell_type": "code",
   "execution_count": 125,
   "metadata": {},
   "outputs": [
    {
     "name": "stdout",
     "output_type": "stream",
     "text": [
      "[0 0 1 0 0 0 0 0 0 0 0 0 0 0 0 0 0 0 0 1 0 0 0 0 0 0 1 0 0 0 0 0 0 0 0 0 0\n",
      " 1 0 0 0 0 0 0 0 0 0 0 0 1 0 0 0 0 0 0 1 0 0 0 1 0 0 1 0 0 0 0 0 0 1 0 0 0\n",
      " 0 0 0 0 0 0 0 0 0 1 1 0 0 0 0 0 0 0 0 0 0 0 0 0 0 0]\n",
      "[0.89, 0.11]\n"
     ]
    }
   ],
   "source": [
    "p = 0.1  # Probability of success (1) in each trial\n",
    "n = 100  # Number of Bernoulli trials to simulate\n",
    "\n",
    "\"\"\"\n",
    ".rvs: Usage: Generates random samples from a specified distribution.\n",
    "Applicable Distributions: Bernoulli, Binomial, Poisson, Normal, etc.\n",
    "Common Parameters:\n",
    "    p, mu, loc, scale: Parameters defining the distribution.\n",
    "    size: Number of samples to generate.\n",
    "    random_state: Seed for reproducibility.\n",
    "\"\"\"\n",
    "bern_func = stats.bernoulli.rvs(p,size=n) # Random Variates. Result: An array of 0s and 1s representing failures and successes across 100 trials.\n",
    "print(bern_func)\n",
    "\n",
    "#Calculating Empirical Probabilities \n",
    "\"\"\"\n",
    "A list containing two elements:\n",
    "    [Empirical probability of failure (0), Empirical probability of success (1)]\n",
    "Purpose: To store and easily reference both probabilities together.\n",
    "\"\"\"\n",
    "bern_probability = [\n",
    "    bern_func[bern_func==0].shape[0] / bern_func.shape[0], # number of failures / total number of trials\n",
    "    bern_func[bern_func==1].shape[0] / bern_func.shape[0] # number of successes / total number of trials\n",
    "]\n",
    "print(bern_probability)"
   ]
  },
  {
   "cell_type": "markdown",
   "metadata": {},
   "source": [
    "stats.bernoulli.rvs(p, size=n):\n",
    "\n",
    "- rvs stands for Random Variates.\n",
    "    - Purpose: Generates random samples from a Bernoulli distribution.\n",
    "    - Parameters:\n",
    "        -   p: Probability of success (1) in each trial.\n",
    "        - size: Number of trials to simulate.\n",
    "        - Other Optional Parameters:\n",
    "            - loc: Location parameter (default is 0). Shifts the distribution.\n"
   ]
  },
  {
   "cell_type": "markdown",
   "metadata": {},
   "source": [
    "Certainly! Let's break down and explain each part of your code step-by-step to ensure you fully understand how it works.\n",
    "\n",
    "---\n",
    "\n",
    "## **1. Code Overview**\n",
    "\n",
    "```python\n",
    "p = 0.1\n",
    "n = 100\n",
    "\n",
    "bern_func = stats.bernoulli.rvs(p, size=n)\n",
    "print(bern_func)\n",
    "bern_probability = [\n",
    "    bern_func[bern_func == 0].shape[0] / bern_func.shape[0],\n",
    "    bern_func[bern_func == 1].shape[0] / bern_func.shape[0]\n",
    "]\n",
    "```\n",
    "\n",
    "- **Purpose:** \n",
    "  - Simulate `n` Bernoulli trials with probability `p` of success (1).\n",
    "  - Calculate the empirical probabilities of outcomes 0 (failure) and 1 (success) based on the simulation.\n",
    "\n",
    "---\n",
    "\n",
    "## **2. Detailed Explanation**\n",
    "\n",
    "### **a. Importing Necessary Library**\n",
    "\n",
    "Before running the provided code, ensure you've imported the `scipy.stats` module:\n",
    "\n",
    "```python\n",
    "from scipy import stats\n",
    "```\n",
    "\n",
    "### **b. Setting Parameters**\n",
    "\n",
    "```python\n",
    "p = 0.1  # Probability of success (1) in each trial\n",
    "n = 100  # Number of Bernoulli trials to simulate\n",
    "```\n",
    "\n",
    "- **`p` (Probability of Success):** The likelihood that any single trial results in a success (1). Here, there's a 10% chance of success.\n",
    "  \n",
    "- **`n` (Number of Trials):** The total number of independent Bernoulli trials to simulate. Here, 100 trials are performed.\n",
    "\n",
    "### **c. Generating Bernoulli Random Variables**\n",
    "\n",
    "```python\n",
    "bern_func = stats.bernoulli.rvs(p, size=n)\n",
    "print(bern_func)\n",
    "```\n",
    "\n",
    "- **`stats.bernoulli.rvs(p, size=n)`:**\n",
    "  - **`rvs`** stands for **Random Variates**.\n",
    "  - **Purpose:** Generates random samples from a Bernoulli distribution.\n",
    "  - **Parameters:**\n",
    "    - `p`: Probability of success (1) in each trial.\n",
    "    - `size`: Number of trials to simulate.\n",
    "    - **Other Optional Parameters:**\n",
    "      - `loc`: Location parameter (default is 0). Shifts the distribution.\n",
    "      - `random_state`: Seed or `RandomState` instance for reproducibility.\n",
    "  \n",
    "  **Example Usage:**\n",
    "  \n",
    "  ```python\n",
    "  bern_func = stats.bernoulli.rvs(p=0.1, size=100)\n",
    "  ```\n",
    "  \n",
    "  **Result:** An array of 0s and 1s representing failures and successes across 100 trials. For example:\n",
    "  \n",
    "  ```\n",
    "  [0 0 1 0 0 0 0 0 0 0 0 0 0 0 0 0 0 0 0 0 0 0 0 0 0 0 0 0 0 0 0 0 0 0 0 0 0 0 0 0 0 0 0 0 0 0 0 0 0 0 0 0 0 0 0 0 0 0 0 0 0 0 0 0 0 0 0 0 0 0 0 0 0 0 0 0 0 0 0 0 0 0 0 0 0 0 0]\n",
    "  ```\n",
    "\n",
    "### **d. Calculating Empirical Probabilities**\n",
    "\n",
    "```python\n",
    "bern_probability = [\n",
    "    bern_func[bern_func == 0].shape[0] / bern_func.shape[0],\n",
    "    bern_func[bern_func == 1].shape[0] / bern_func.shape[0]\n",
    "]\n",
    "```\n",
    "\n",
    "- **`bern_func[bern_func == 0]`:**\n",
    "  - **Purpose:** Selects all elements in `bern_func` that are equal to 0 (failures).\n",
    "  - **Explanation:** \n",
    "    - `bern_func == 0` creates a boolean array where each element is `True` if the condition is met and `False` otherwise.\n",
    "    - `bern_func[bern_func == 0]` uses this boolean array to filter and return only the elements that satisfy the condition.\n",
    "\n",
    "- **`.shape[0]`:**\n",
    "  - **Purpose:** Returns the number of elements in the first dimension of the array (i.e., the total count of selected elements).\n",
    "  - **Explanation:** \n",
    "    - For a 1D array, `shape[0]` gives the total number of elements.\n",
    "    - Example:\n",
    "      ```python\n",
    "      array = np.array([0, 1, 0, 0])\n",
    "      print(array.shape[0])  # Output: 4\n",
    "      ```\n",
    "\n",
    "- **Division Operation:**\n",
    "  - **`bern_func[bern_func == 0].shape[0] / bern_func.shape[0]`:**\n",
    "    - **Numerator:** Number of failures (0s).\n",
    "    - **Denominator:** Total number of trials (`n`).\n",
    "    - **Result:** Proportion of failures in the simulation.\n",
    "\n",
    "  - **Similarly for successes (1s):**\n",
    "    - **`bern_func[bern_func == 1].shape[0] / bern_func.shape[0]`:**\n",
    "      - **Numerator:** Number of successes (1s).\n",
    "      - **Denominator:** Total number of trials (`n`).\n",
    "      - **Result:** Proportion of successes in the simulation.\n",
    "\n",
    "- **Why a List with Two Arguments?**\n",
    "  - **`bern_probability`:** \n",
    "    - A list containing two elements:\n",
    "      1. **First Element:** Empirical probability of failure (0).\n",
    "      2. **Second Element:** Empirical probability of success (1).\n",
    "    - **Purpose:** To store and easily reference both probabilities together.\n",
    "\n",
    "  **Example Calculation:**\n",
    "  \n",
    "  Suppose `bern_func` has 90 zeros and 10 ones:\n",
    "  \n",
    "  ```python\n",
    "  bern_probability = [\n",
    "      90 / 100,  # 0.9\n",
    "      10 / 100   # 0.1\n",
    "  ]\n",
    "  print(bern_probability)  # Output: [0.9, 0.1]\n",
    "  ```\n",
    "\n",
    "---\n",
    "\n",
    "## **3. Summary of Key Concepts**\n",
    "\n",
    "### **a. `.rvs` Function**\n",
    "\n",
    "- **Definition:** `rvs` stands for **Random Variates**.\n",
    "- **Usage:** Generates random samples from a specified distribution.\n",
    "- **Applicable Distributions:** Bernoulli, Binomial, Poisson, Normal, etc.\n",
    "- **Common Parameters:**\n",
    "  - `p`, `mu`, `loc`, `scale`: Parameters defining the distribution.\n",
    "  - `size`: Number of samples to generate.\n",
    "  - `random_state`: Seed for reproducibility.\n",
    "\n",
    "**Example with Different Distributions:**\n",
    "\n",
    "```python\n",
    "# Bernoulli Distribution\n",
    "bern_samples = stats.bernoulli.rvs(p=0.3, size=50)\n",
    "\n",
    "# Binomial Distribution\n",
    "binom_samples = stats.binom.rvs(n=10, p=0.3, size=50)\n",
    "\n",
    "# Poisson Distribution\n",
    "pois_samples = stats.poisson.rvs(mu=4, size=50)\n",
    "\n",
    "# Normal Distribution\n",
    "norm_samples = stats.norm.rvs(loc=0, scale=1, size=50)\n",
    "```\n",
    "\n",
    "### **b. `bern_probability` Variable**\n",
    "\n",
    "- **Type:** List\n",
    "- **Contents:** \n",
    "  1. Proportion of failures (0s).\n",
    "  2. Proportion of successes (1s).\n",
    "- **Reason for Being a List:**\n",
    "  - To conveniently store and access both probabilities together.\n",
    "  - Facilitates operations like plotting or further analysis.\n",
    "\n",
    "**Example:**\n",
    "\n",
    "```python\n",
    "bern_probability = [0.9, 0.1]  # [Failure Probability, Success Probability]\n",
    "```\n",
    "\n",
    "### **c. Boolean Indexing (`bern_func == 0` and `bern_func == 1`)**\n",
    "\n",
    "- **`bern_func == 0`:**\n",
    "  - Creates a boolean array where each element is `True` if the corresponding element in `bern_func` is 0.\n",
    "  \n",
    "- **`bern_func == 1`:**\n",
    "  - Similarly, creates a boolean array for elements equal to 1.\n",
    "  \n",
    "- **Usage in Indexing:**\n",
    "  - `bern_func[bern_func == 0]`: Filters and returns all 0s.\n",
    "  - `bern_func[bern_func == 1]`: Filters and returns all 1s.\n",
    "\n",
    "**Example:**\n",
    "\n",
    "```python\n",
    "array = np.array([0, 1, 0, 1, 1])\n",
    "print(array[array == 0])  # Output: [0, 0]\n",
    "print(array[array == 1])  # Output: [1, 1, 1]\n",
    "```\n",
    "\n",
    "### **d. `.shape` Attribute and `.shape[0]`**\n",
    "\n",
    "- **`.shape`:**\n",
    "  - Returns a tuple representing the dimensions of the array.\n",
    "  \n",
    "- **`.shape[0]`:**\n",
    "  - Accesses the size of the first dimension (number of elements in a 1D array).\n",
    "  \n",
    "- **Purpose in Context:**\n",
    "  - To count the number of occurrences of 0s and 1s by determining how many elements satisfy the condition.\n",
    "\n",
    "**Example:**\n",
    "\n",
    "```python\n",
    "array = np.array([0, 1, 0, 1, 1])\n",
    "print(array.shape)    # Output: (5,)\n",
    "print(array.shape[0]) # Output: 5\n",
    "```\n",
    "\n",
    "---\n",
    "\n",
    "## **4. Purpose and Result of the Division**\n",
    "\n",
    "```python\n",
    "bern_probability = [\n",
    "    bern_func[bern_func == 0].shape[0] / bern_func.shape[0],\n",
    "    bern_func[bern_func == 1].shape[0] / bern_func.shape[0]\n",
    "]\n",
    "```\n",
    "\n",
    "- **Objective:** Calculate the empirical probabilities of failure (0) and success (1) based on the simulated data.\n",
    "\n",
    "- **Breakdown:**\n",
    "  1. **`bern_func[bern_func == 0].shape[0]`:** Counts the number of 0s in the simulation.\n",
    "  2. **`bern_func.shape[0]`:** Total number of trials (`n`).\n",
    "  3. **Division:** \n",
    "     - **First Division:** Proportion of 0s (failures).\n",
    "     - **Second Division:** Proportion of 1s (successes).\n",
    "\n",
    "- **Result:** \n",
    "  - **`bern_probability[0]`:** Empirical probability of failure.\n",
    "  - **`bern_probability[1]`:** Empirical probability of success.\n",
    "\n",
    "**Why a List with Two Arguments?**\n",
    "\n",
    "- **Convenience:** Storing both probabilities in a list allows for easy access and comparison.\n",
    "- **Usage:** Can be used for plotting, statistical analysis, or reporting results.\n",
    "\n",
    "**Example Outcome:**\n",
    "\n",
    "Suppose after running the simulation, `bern_func` contains 90 zeros and 10 ones.\n",
    "\n",
    "```python\n",
    "bern_probability = [\n",
    "    90 / 100,  # 0.9\n",
    "    10 / 100   # 0.1\n",
    "]\n",
    "print(bern_probability)  # Output: [0.9, 0.1]\n",
    "```\n",
    "\n",
    "**Interpretation:**\n",
    "\n",
    "- **90%** of trials resulted in failure (0).\n",
    "- **10%** of trials resulted in success (1).\n",
    "\n",
    "This empirical probability should be close to the theoretical probability `p = 0.1` for large `n`, demonstrating the Law of Large Numbers.\n",
    "\n",
    "---\n",
    "\n",
    "## **5. Additional Insights**\n",
    "\n",
    "### **a. Visualization**\n",
    "\n",
    "To better understand the distribution of your Bernoulli trials, you can visualize the results:\n",
    "\n",
    "```python\n",
    "import matplotlib.pyplot as plt\n",
    "\n",
    "labels = ['Failure (0)', 'Success (1)']\n",
    "plt.bar(labels, bern_probability, color=['red', 'green'])\n",
    "plt.ylabel('Probability')\n",
    "plt.title('Bernoulli Trial Outcomes')\n",
    "plt.show()\n",
    "```\n",
    "\n",
    "**Result:**\n",
    "\n",
    "A bar chart showing the proportion of failures and successes in your simulation.\n",
    "\n",
    "### **b. Reproducibility with `random_state`**\n",
    "\n",
    "To ensure that you get the same random results every time you run the simulation, use the `random_state` parameter:\n",
    "\n",
    "```python\n",
    "bern_func = stats.bernoulli.rvs(p=0.1, size=100, random_state=42)\n",
    "```\n",
    "\n",
    "- **`random_state`:** An integer or `RandomState` instance that sets the seed for the random number generator.\n",
    "\n",
    "### **c. Understanding Bernoulli Distribution**\n",
    "\n",
    "- **Definition:** A Bernoulli trial is a random experiment with exactly two possible outcomes: success (1) and failure (0).\n",
    "  \n",
    "- **Parameters:**\n",
    "  - `p`: Probability of success.\n",
    "  - `1 - p`: Probability of failure.\n",
    "\n",
    "- **Applications:** Modeling binary outcomes like coin flips, pass/fail tests, etc.\n",
    "\n",
    "---\n",
    "\n",
    "## **6. Recap of Your Specific Example**\n",
    "\n",
    "### **Given:**\n",
    "\n",
    "- **Total Buyers:** 100\n",
    "- **Bought Alarm System (A):** 40 buyers (P(A) = 0.4)\n",
    "- **Bought Bucket Seats (B):** 30 buyers (P(B) = 0.3)\n",
    "- **Bought Both (A ∩ B):** 20 buyers (P(A ∩ B) = 0.2)\n",
    "\n",
    "### **Question:**\n",
    "\n",
    "> If a randomly chosen buyer **bought an alarm system** (A), what is the probability that they **also bought bucket seats** (B)? (i.e., Calculate P(B|A))\n",
    "\n",
    "### **Correct Calculation:**\n",
    "\n",
    "\\[ P(B|A) = \\frac{P(A \\cap B)}{P(A)} = \\frac{0.2}{0.4} = 0.5 \\text{ or } 50\\% \\]\n",
    "\n",
    "### **Your Code's Objective vs. Actual Calculation:**\n",
    "\n",
    "- **Objective:** Calculate P(B|A).\n",
    "- **Issue in Your Code:**\n",
    "  - **Misinterpretation:** You used `p_b_given_a = 0.2`, which represents **P(A ∩ B)**, not **P(B|A)**.\n",
    "  - **Function Usage:** Your `bayes_theorem` function calculates **P(A|B)**, not **P(B|A)**.\n",
    "\n",
    "### **Correct Approach:**\n",
    "\n",
    "For **P(B|A)**, use the conditional probability formula directly:\n",
    "\n",
    "```python\n",
    "# Given:\n",
    "p_a = 0.4        # P(A)\n",
    "p_a_and_b = 0.2  # P(A ∩ B)\n",
    "\n",
    "# Calculate P(B|A)\n",
    "p_b_given_a = p_a_and_b / p_a\n",
    "print('P(B|A) = %.2f%%' % (p_b_given_a * 100))\n",
    "```\n",
    "\n",
    "**Output:**\n",
    "```\n",
    "P(B|A) = 50.00%\n",
    "```\n",
    "\n",
    "### **If You Want to Calculate P(A|B) Using Bayes' Theorem:**\n",
    "\n",
    "```python\n",
    "def bayes_theorem(p_a, p_b_given_a, p_b):\n",
    "    p_a_given_b = (p_b_given_a * p_a) / p_b\n",
    "    return p_a_given_b\n",
    "\n",
    "# Given:\n",
    "p_a = 0.4             # P(A)\n",
    "p_b_given_a = 0.5     # P(B|A)\n",
    "p_b = 0.3             # P(B)\n",
    "\n",
    "# Calculate P(A|B)\n",
    "p_a_given_b = bayes_theorem(p_a, p_b_given_a, p_b)\n",
    "print('P(A|B) = %.2f%%' % (p_a_given_b * 100))\n",
    "```\n",
    "\n",
    "**Output:**\n",
    "```\n",
    "P(A|B) = 66.67%\n",
    "```\n",
    "\n",
    "---\n",
    "\n",
    "## **7. Final Thoughts**\n",
    "\n",
    "- **Understanding Probability Concepts:** Grasping conditional probabilities and their correct application is crucial for accurate statistical analysis.\n",
    "  \n",
    "- **Code Accuracy:** Ensure that the parameters you pass to functions align with the formulas you intend to implement.\n",
    "\n",
    "- **Practice:** Regularly simulate different probability scenarios to reinforce your understanding.\n",
    "\n",
    "If you have any further questions or need additional clarifications, feel free to ask!"
   ]
  },
  {
   "cell_type": "markdown",
   "metadata": {},
   "source": []
  },
  {
   "cell_type": "code",
   "execution_count": 126,
   "metadata": {},
   "outputs": [
    {
     "name": "stdout",
     "output_type": "stream",
     "text": [
      "[0 1 0 0 0 0 0 0 0 0 0 0 0 0 0 0 0 0 0 1 0 0 0 0 0 1 0 0 0 0 0 0 0 0 0 0 0\n",
      " 0 0 0 0 1 0 0 0 0 0 0 0 0 0 0 0 0 0 0 0 0 0 0 0 0 1 0 0 0 1 0 0 0 0 0 0 0\n",
      " 0 0 0 0 0 0 0 1 0 0 0 0 0 0 0 0 0 0 1 0 0 0 0 0 0 0]\n"
     ]
    },
    {
     "data": {
      "image/png": "[encoded data removed]",
      "text/plain": [
       "<Figure size 640x480 with 1 Axes>"
      ]
     },
     "metadata": {},
     "output_type": "display_data"
    }
   ],
   "source": [
    "p = 0.1  # Probability of success (1) in each trial\n",
    "n = 100  # Number of Bernoulli trials to simulate\n",
    "\n",
    "\"\"\"\n",
    ".rvs: Usage: Generates random samples from a specified distribution.\n",
    "Applicable Distributions: Bernoulli, Binomial, Poisson, Normal, etc.\n",
    "Common Parameters:\n",
    "    p, mu, loc, scale: Parameters defining the distribution.\n",
    "    size: Number of samples to generate.\n",
    "    random_state: Seed for reproducibility.\n",
    "\"\"\"\n",
    "bern_func = stats.bernoulli.rvs(p,size=n) # Random Variates. Result: An array of 0s and 1s representing failures and successes across 100 trials.\n",
    "print(bern_func)\n",
    "\n",
    "#Calculating Empirical Probabilities \n",
    "\"\"\"\n",
    "A list containing two elements:\n",
    "    [Empirical probability of failure (0), Empirical probability of success (1)]\n",
    "Purpose: To store and easily reference both probabilities together.\n",
    "\"\"\"\n",
    "bern_probability = [\n",
    "    bern_func[bern_func==0].shape[0] / bern_func.shape[0], # number of failures / total number of trials\n",
    "    bern_func[bern_func==1].shape[0] / bern_func.shape[0] # number of successes / total number of trials\n",
    "]\n",
    "plt.scatter([0,1], bern_probability, color='red')\n",
    "plt.vlines([0,1],0,bern_probability,color='red',lw=2,alpha=0.5)\n",
    "plt.ylim([0,1])\n",
    "plt.show()\n"
   ]
  },
  {
   "cell_type": "markdown",
   "metadata": {},
   "source": [
    "# Poisson Distribution"
   ]
  },
  {
   "cell_type": "code",
   "execution_count": 127,
   "metadata": {},
   "outputs": [
    {
     "data": {
      "text/plain": [
       "array([10,  8, 12, ..., 13, 10, 13])"
      ]
     },
     "execution_count": 127,
     "metadata": {},
     "output_type": "execute_result"
    }
   ],
   "source": [
    "\"\"\"Na przykład załóżmy, że średnia liczba połączeń przychodzących w piętnastominutowym przedziale czasowym wynosi 10. \n",
    "Obliczmy prawdopodobieństwo, że w ciągu następnych 15 minut nadejdzie 5 połączeń lub więcej, x = 10 oraz k = 5.\"\"\"\n",
    "poisson_set = stats.poisson.rvs(mu=10,size=10000)\n",
    "poisson_set"
   ]
  },
  {
   "cell_type": "code",
   "execution_count": 128,
   "metadata": {},
   "outputs": [
    {
     "data": {
      "image/png": "[encoded data removed]",
      "text/plain": [
       "<Figure size 640x480 with 1 Axes>"
      ]
     },
     "metadata": {},
     "output_type": "display_data"
    }
   ],
   "source": [
    "plt.hist(poisson_set, density=True, edgecolor='black',bins=28)\n",
    "plt.show()"
   ]
  },
  {
   "cell_type": "code",
   "execution_count": 129,
   "metadata": {},
   "outputs": [
    {
     "name": "stdout",
     "output_type": "stream",
     "text": [
      "Probability that there will be 5 incoming calls within the next 15 minutes:\n",
      "0.93\n"
     ]
    }
   ],
   "source": [
    "print('Probability that there will be 5 incoming calls within the next 15 minutes:')\n",
    "print(np.round(1 - stats.poisson.cdf(k=5,mu=10), 2))"
   ]
  },
  {
   "cell_type": "markdown",
   "metadata": {},
   "source": [
    "---\n",
    "\n",
    "## **Problem Statement Recap**\n",
    "\n",
    "**Scenario:**\n",
    "- **Average Number of Incoming Calls (\\( \\mu \\)):** 10 calls per 15-minute interval.\n",
    "- **Objective:** Calculate the probability that **5 or more** incoming calls will occur in the next 15 minutes.\n",
    "\n",
    "**Given:**\n",
    "- \\( \\mu = 10 \\)\n",
    "- \\( k = 5 \\) (the threshold number of calls)\n",
    "\n",
    "---\n",
    "\n",
    "## **Code Explanation**\n",
    "\n",
    "### **1. Importing Necessary Libraries**\n",
    "\n",
    "Before running the code, ensure you have the required libraries imported:\n",
    "\n",
    "```python\n",
    "import numpy as np\n",
    "from scipy import stats\n",
    "import matplotlib.pyplot as plt\n",
    "```\n",
    "\n",
    "- **`numpy (np)`**: For numerical operations.\n",
    "- **`scipy.stats`**: Contains statistical distributions and functions.\n",
    "- **`matplotlib.pyplot (plt)`**: For plotting and visualization.\n",
    "\n",
    "### **2. Generating Poisson Random Variables**\n",
    "\n",
    "```python\n",
    "poisson_set = stats.poisson.rvs(mu=10, size=10000)\n",
    "```\n",
    "\n",
    "- **`stats.poisson.rvs(mu=10, size=10000)`**:\n",
    "  - **Purpose:** Generates random variates (samples) from a Poisson distribution.\n",
    "  - **Parameters:**\n",
    "    - `mu=10`: The average rate (\\( \\mu \\)) of events (calls) per interval. Here, \\( \\mu = 10 \\) calls per 15 minutes.\n",
    "    - `size=10000`: The number of random samples to generate. This simulates 10,000 separate 15-minute intervals.\n",
    "  - **Returns:** An array (`poisson_set`) containing 10,000 integers representing the number of calls in each simulated interval.\n",
    "\n",
    "**Example Output:**\n",
    "```python\n",
    "print(poisson_set)\n",
    "# Output might look like:\n",
    "# [12  8 10 11  9 10  7 14  6 10 ...]\n",
    "```\n",
    "\n",
    "### **3. Calculating the Probability of 5 or More Calls**\n",
    "\n",
    "```python\n",
    "print('Probability that there will be 5 incoming calls within the next 15 minutes:')\n",
    "print(np.round(1 - stats.poisson.cdf(k=5, mu=10), 2))\n",
    "```\n",
    "\n",
    "#### **a. Understanding `stats.poisson.cdf(k=5, mu=10)`**\n",
    "\n",
    "- **`stats.poisson.cdf(k=5, mu=10)`**:\n",
    "  - **Purpose:** Calculates the **Cumulative Distribution Function (CDF)** for the Poisson distribution up to \\( k = 5 \\).\n",
    "  - **Parameters:**\n",
    "    - `k=5`: The threshold number of calls.\n",
    "    - `mu=10`: The average rate (\\( \\mu \\)) of calls.\n",
    "  - **Returns:** The probability that the number of calls is **less than or equal to 5** in a 15-minute interval, i.e., \\( P(X \\leq 5) \\).\n",
    "\n",
    "**Mathematical Representation:**\n",
    "\\[\n",
    "P(X \\leq 5) = \\sum_{x=0}^{5} \\frac{e^{-\\mu} \\mu^x}{x!}\n",
    "\\]\n",
    "\n",
    "#### **b. Calculating \\( P(X \\geq 5) \\)**\n",
    "\n",
    "- **Expression:** `1 - stats.poisson.cdf(k=5, mu=10)`\n",
    "  - **Explanation:** \n",
    "    - \\( P(X \\geq 5) = 1 - P(X \\leq 4) \\)\n",
    "    - **Note:** To calculate \\( P(X \\geq 5) \\), you should subtract \\( P(X \\leq 4) \\) from 1, not \\( P(X \\leq 5) \\).\n",
    "    - **Correction:** If you intend to calculate \\( P(X \\geq 5) \\), use `k=4`.\n",
    "\n",
    "**Correct Calculation for \\( P(X \\geq 5) \\):**\n",
    "```python\n",
    "print(np.round(1 - stats.poisson.cdf(k=4, mu=10), 2))\n",
    "```\n",
    "\n",
    "**However, based on your original code:**\n",
    "- **Your Calculation:** `1 - stats.poisson.cdf(k=5, mu=10)` computes \\( P(X \\geq 6) \\)\n",
    "- **Desired Calculation:** \\( P(X \\geq 5) = 1 - P(X \\leq 4) \\)\n",
    "\n",
    "**Final Calculation:**\n",
    "```python\n",
    "# Correct probability for 5 or more calls\n",
    "prob_p5_or_more = 1 - stats.poisson.cdf(k=4, mu=10)\n",
    "print('Probability that there will be 5 or more incoming calls within the next 15 minutes:')\n",
    "print(np.round(prob_p5_or_more, 2))\n",
    "```\n",
    "\n",
    "#### **c. Rounding the Probability**\n",
    "\n",
    "- **`np.round(..., 2)`**:\n",
    "  - **Purpose:** Rounds the resulting probability to **two decimal places** for readability.\n",
    "  - **Parameters:**\n",
    "    - The value to be rounded.\n",
    "    - `2`: Number of decimal places.\n",
    "\n",
    "**Example Output:**\n",
    "```python\n",
    "# Suppose the calculation gives 0.9933\n",
    "print(np.round(prob_p5_or_more, 2))  # Output: 0.99\n",
    "```\n",
    "\n",
    "### **4. Summary of Variables and Their Roles**\n",
    "\n",
    "- **`poisson_set`**:\n",
    "  - **Type:** NumPy array.\n",
    "  - **Contents:** 10,000 simulated values representing the number of incoming calls in each 15-minute interval based on a Poisson distribution with \\( \\mu = 10 \\).\n",
    "  - **Usage:** Can be used for further analysis or visualization, such as plotting a histogram to visualize the distribution of calls.\n",
    "\n",
    "- **`1 - stats.poisson.cdf(k=5, mu=10)`**:\n",
    "  - **Purpose:** Calculates the probability of observing **more than 5** calls (\\( X \\geq 6 \\)) in a 15-minute interval.\n",
    "  - **Correction Needed:** To find \\( P(X \\geq 5) \\), adjust `k` to 4.\n",
    "\n",
    "### **5. Additional Details on `stats.poisson.rvs()` Function**\n",
    "\n",
    "- **Definition:** Generates random variates from a Poisson distribution.\n",
    "- **Key Parameters:**\n",
    "  - **`mu` (float):** The expected number of events (rate parameter, \\( \\mu \\)).\n",
    "  - **`size` (int or tuple of ints):** Number of random variates to generate. Can specify the shape of the output array.\n",
    "  - **`random_state` (int, RandomState instance, or None):** Seed or random number generator for reproducibility.\n",
    "- **Returns:** An array of integers representing the number of events (calls) in each interval.\n",
    "\n",
    "**Example with Additional Parameters:**\n",
    "```python\n",
    "# Using random_state for reproducibility\n",
    "poisson_set = stats.poisson.rvs(mu=10, size=10000, random_state=42)\n",
    "```\n",
    "\n",
    "### **6. Practical Example: Visualizing the Poisson Distribution**\n",
    "\n",
    "To better understand the distribution of incoming calls, you can visualize the simulated data:\n",
    "\n",
    "```python\n",
    "import matplotlib.pyplot as plt\n",
    "\n",
    "# Generate Poisson random variables\n",
    "poisson_set = stats.poisson.rvs(mu=10, size=10000, random_state=42)\n",
    "\n",
    "# Plot histogram\n",
    "plt.hist(poisson_set, bins=range(0, 21), density=True, alpha=0.75, color='skyblue', edgecolor='black')\n",
    "\n",
    "# Overlay the theoretical Poisson PMF\n",
    "x = np.arange(0, 21)\n",
    "pmf = stats.poisson.pmf(x, mu=10)\n",
    "plt.plot(x, pmf, 'ro', ms=8, label='Poisson PMF')\n",
    "plt.vlines(x, 0, pmf, colors='r', lw=2, alpha=0.5)\n",
    "\n",
    "# Labels and Title\n",
    "plt.xlabel('Number of Incoming Calls')\n",
    "plt.ylabel('Probability')\n",
    "plt.title('Poisson Distribution of Incoming Calls (μ=10)')\n",
    "plt.legend()\n",
    "plt.show()\n",
    "```\n",
    "\n",
    "**Explanation:**\n",
    "- **Histogram (`plt.hist`)**: Displays the frequency of incoming calls based on the simulated data.\n",
    "- **Probability Mass Function (PMF) Overlay**: Shows the theoretical probabilities for comparison.\n",
    "- **Visualization Aids**: Helps in understanding how well the simulation aligns with the theoretical distribution.\n",
    "\n",
    "---\n",
    "\n",
    "## **Conclusion**\n",
    "\n",
    "- **`.rvs` Function:**\n",
    "  - **Purpose:** Generates random samples from a specified distribution.\n",
    "  - **Parameters:** `mu`, `size`, `random_state`, among others.\n",
    "  - **Usage:** Simulate data based on statistical distributions for analysis and visualization.\n",
    "\n",
    "- **`poisson_set` Variable:**\n",
    "  - **Type:** Array of simulated Poisson-distributed random variables.\n",
    "  - **Role:** Represents the number of incoming calls in each simulated 15-minute interval.\n",
    "\n",
    "- **Probability Calculation:**\n",
    "  - **Expression:** `1 - stats.poisson.cdf(k-1, mu)`\n",
    "  - **Purpose:** Computes the probability of observing **k or more** events.\n",
    "  - **Adjustment Needed:** Ensure correct value of `k` to match the desired probability range.\n",
    "\n",
    "- **Understanding `.cdf()` and Probability Interpretation:**\n",
    "  - **`.cdf(k, mu)`:** Probability of observing **up to** `k` events.\n",
    "  - **`1 - .cdf(k-1, mu)`:** Probability of observing **k or more** events.\n",
    "\n",
    "- **Rounding with `np.round()`:**\n",
    "  - **Purpose:** Enhances readability by limiting the number of decimal places.\n",
    "\n",
    "By correctly setting the parameters and understanding the functions used, you can effectively simulate and calculate probabilities for various scenarios using the Poisson distribution in Python."
   ]
  },
  {
   "cell_type": "markdown",
   "metadata": {},
   "source": [
    "# Normal Distribution"
   ]
  },
  {
   "cell_type": "code",
   "execution_count": 130,
   "metadata": {},
   "outputs": [],
   "source": [
    "# Defines a function gauss that calculates the Probability Density Function (PDF) of a normal distribution.\n",
    "\n",
    "def gauss(x, sigma=1, mu=0):\n",
    "    return stats.norm.pdf(x, mu, sigma)"
   ]
  },
  {
   "cell_type": "code",
   "execution_count": 131,
   "metadata": {},
   "outputs": [
    {
     "data": {
      "text/plain": [
       "array([-10.       ,  -9.9979998,  -9.9959996, ...,   9.9959996,\n",
       "         9.9979998,  10.       ])"
      ]
     },
     "execution_count": 131,
     "metadata": {},
     "output_type": "execute_result"
    }
   ],
   "source": [
    "# Generates an array x containing 10,000 equally spaced values between -10 and 10.\n",
    "x = np.linspace(-10, 10, 10000) \n",
    "x"
   ]
  },
  {
   "cell_type": "code",
   "execution_count": 132,
   "metadata": {},
   "outputs": [
    {
     "data": {
      "image/png": "[encoded data removed]",
      "text/plain": [
       "<Figure size 1200x800 with 1 Axes>"
      ]
     },
     "metadata": {},
     "output_type": "display_data"
    }
   ],
   "source": [
    "plt.figure(figsize=(12,8))\n",
    "\n",
    "#Plots four Gaussian (normal distribution) curves with different standard deviations but the same mean.\n",
    "plt.plot(x, gauss(x, sigma=1), label='Std. dev = 1, mean = 0')\n",
    "plt.plot(x, gauss(x, sigma=2), label='Std. dev = 2, mean = 0')\n",
    "plt.plot(x, gauss(x, sigma=5), label='Std. dev = 5, mean = 0')\n",
    "plt.plot(x, gauss(x, sigma=10), label='Std. dev = 10, mean = 0')\n",
    "plt.legend(loc='upper left')\n",
    "plt.show()"
   ]
  },
  {
   "cell_type": "markdown",
   "metadata": {},
   "source": [
    "---\n",
    "\n",
    "## **1. Function Definition**\n",
    "\n",
    "```python\n",
    "def gauss(x, sigma=1, mu=0):\n",
    "    return stats.norm.pdf(x, mu, sigma)\n",
    "```\n",
    "\n",
    "- **Purpose:** Defines a function `gauss` that calculates the **Probability Density Function (PDF)** of a normal distribution.\n",
    "- **Parameters:**\n",
    "  - **`x`**: Input array for which the PDF is calculated.\n",
    "  - **`sigma` (default=1)**: Standard deviation of the normal distribution.\n",
    "  - **`mu` (default=0)**: Mean of the normal distribution.\n",
    "- **Return Value:** The PDF values for the given `x` based on the normal distribution parameters.\n",
    "\n",
    "### **Key Function Used:**\n",
    "- **`stats.norm.pdf(x, mu, sigma)`**:\n",
    "  - Computes the PDF of a normal distribution for input `x`, with a specified mean `mu` and standard deviation `sigma`.\n",
    "\n",
    "---\n",
    "\n",
    "## **2. Generating the X-Values**\n",
    "\n",
    "```python\n",
    "x = np.linspace(-10, 10, 10000)\n",
    "```\n",
    "\n",
    "- **Purpose:** Generates an array `x` containing 10,000 equally spaced values between -10 and 10.\n",
    "- **Function Used:**\n",
    "  - **`np.linspace(start, stop, num)`**: Creates a linearly spaced array from `start` to `stop` with `num` elements.\n",
    "\n",
    "---\n",
    "\n",
    "## **3. Setting Up the Plot**\n",
    "\n",
    "```python\n",
    "plt.figure(figsize=(12,8))\n",
    "```\n",
    "\n",
    "- **Purpose:** Initializes a new figure for plotting with a specified size of 12 inches by 8 inches.\n",
    "- **Function Used:**\n",
    "  - **`plt.figure(figsize=(width, height))`**: Creates a new figure window with given dimensions.\n",
    "\n",
    "---\n",
    "\n",
    "## **4. Plotting the Gaussian Curves**\n",
    "\n",
    "```python\n",
    "plt.plot(x, gauss(x, sigma=1), label='Std. dev = 1, mean = 0')\n",
    "plt.plot(x, gauss(x, sigma=2), label='Std. dev = 2, mean = 0')\n",
    "plt.plot(x, gauss(x, sigma=5), label='Std. dev = 5, mean = 0')\n",
    "plt.plot(x, gauss(x, sigma=10), label='Std. dev = 10, mean = 0')\n",
    "```\n",
    "\n",
    "- **Purpose:** Plots four Gaussian (normal distribution) curves with different standard deviations but the same mean.\n",
    "- **Function Used:**\n",
    "  - **`plt.plot(x, y, label='text')`**: Plots the `y` values against `x` and adds a label for the legend.\n",
    "- **Explanation of Labels:**\n",
    "  - `label` specifies the legend entry for each plot, indicating the standard deviation and mean for the curve.\n",
    "\n",
    "---\n",
    "\n",
    "## **5. Adding a Legend**\n",
    "\n",
    "```python\n",
    "plt.legend(loc='upper left')\n",
    "```\n",
    "\n",
    "- **Purpose:** Displays a legend on the plot for identifying each curve.\n",
    "- **Function Used:**\n",
    "  - **`plt.legend(loc='position')`**: Positions the legend in the specified location (`'upper left'`).\n",
    "\n",
    "---\n",
    "\n",
    "## **6. Displaying the Plot**\n",
    "\n",
    "```python\n",
    "plt.show()\n",
    "```\n",
    "\n",
    "- **Purpose:** Renders the plot on the screen.\n",
    "- **Function Used:**\n",
    "  - **`plt.show()`**: Displays the current figure.\n",
    "\n",
    "---\n",
    "\n",
    "## **Explanation of the Output**\n",
    "\n",
    "- **Visualization Result**:\n",
    "  - The plot displays four Gaussian curves with a mean of 0 but different standard deviations (1, 2, 5, 10).\n",
    "  - **Narrower Curve (e.g., σ=1)**: Represents a distribution with data tightly clustered around the mean.\n",
    "  - **Wider Curve (e.g., σ=10)**: Shows a more spread-out distribution, indicating greater variability.\n",
    "\n",
    "---\n",
    "\n",
    "### **Key Concept: Normal Distribution**\n",
    "\n",
    "- **PDF**: Represents the probability density function, showing the likelihood of different outcomes within a continuous data set.\n",
    "- **Effect of Standard Deviation (`σ`)**:\n",
    "  - **Smaller `σ`**: The distribution is taller and narrower.\n",
    "  - **Larger `σ`**: The distribution is shorter and wider.\n",
    "\n"
   ]
  },
  {
   "cell_type": "markdown",
   "metadata": {},
   "source": [
    "# Assignment\n",
    "#### Stwórz dane z rozkładu normalnego o średniej 3 i odchyleniu standardowym 1 dla 100 oraz 10 000. Na podstawie tych sztucznie stworzonych zbiorów oblicz statystyki poznane w module statystki opisowej. Opisz różnice pomiędzy statystkami."
   ]
  },
  {
   "cell_type": "markdown",
   "metadata": {},
   "source": [
    "To help you approach this assignment, here's a suggested step-by-step plan for resolving it:\n",
    "\n",
    "### **1. Generate Normal Distribution Data**\n",
    "- **Create two datasets**:\n",
    "  - One with **100 samples**.\n",
    "  - Another with **10,000 samples**.\n",
    "- Both datasets should have:\n",
    "  - **Mean (μ)**: 3\n",
    "  - **Standard Deviation (σ)**: 1\n",
    "\n",
    "### **2. Calculate Descriptive Statistics**\n",
    "For each dataset, compute the following:\n",
    "- **Mean**: Average value of the data.\n",
    "- **Median**: Middle value when the data is sorted.\n",
    "- **Mode**: Most frequently occurring value (though not always meaningful in continuous data, it's worth calculating for comparison).\n",
    "- **Minimum and Maximum**: Smallest and largest values in the dataset.\n",
    "- **Quartiles**: Specifically, the 1st (Q1) and 3rd (Q3) quartiles.\n",
    "- **Interquartile Range (IQR)**: Difference between Q3 and Q1.\n",
    "- **Variance**: Measure of data spread (standard deviation squared).\n",
    "- **Standard Deviation (σ)**: Measure of the dispersion around the mean.\n",
    "- **Skewness**: Indicates the asymmetry of the data distribution.\n",
    "- **Kurtosis**: Indicates the \"tailedness\" of the distribution.\n",
    "\n",
    "### **3. Visualize the Data**\n",
    "- **Histograms**: Plot histograms for both datasets to visually compare their distributions.\n",
    "- **Box Plots**: Create box plots to visualize the spread, median, and outliers.\n",
    "- **Density Plots**: Overlay density plots for both datasets to compare the distributions.\n",
    "\n",
    "### **4. Compare and Interpret Differences**\n",
    "- **Analyze the impact of sample size**:\n",
    "  - Discuss how the **100-sample dataset** might show more variability and potential deviations from the theoretical mean and standard deviation due to the smaller sample size.\n",
    "  - Compare it to the **10,000-sample dataset**, which should approximate the true properties of the normal distribution more closely due to the **Law of Large Numbers**.\n",
    "- **Summarize observations**:\n",
    "  - Note how the calculated statistics (e.g., mean, variance) for the larger dataset are more stable and closer to the expected theoretical values (mean of 3 and standard deviation of 1).\n",
    "  - Highlight any differences in skewness or kurtosis, discussing whether they align with the characteristics of a normal distribution.\n",
    "\n",
    "### **5. Structure Your Report**\n",
    "- **Introduction**: Briefly explain the objective and approach.\n",
    "- **Methodology**: Outline how the data was generated and the statistics calculated.\n",
    "- **Results**:\n",
    "  - Present tables or summary statistics for each dataset.\n",
    "  - Include plots (histograms, box plots, density plots) for visual comparison.\n",
    "- **Discussion**:\n",
    "  - Analyze and interpret the differences between the 100-sample and 10,000-sample datasets.\n",
    "- **Conclusion**: Summarize key findings and any insights gained from the comparison.\n",
    "\n",
    "This approach ensures you comprehensively address the assignment's requirements and deepen your understanding of how sample size influences statistical analysis. Let me know if you'd like to proceed with coding or need further clarification on any step!"
   ]
  },
  {
   "cell_type": "markdown",
   "metadata": {},
   "source": []
  },
  {
   "cell_type": "markdown",
   "metadata": {},
   "source": [
    "Using `np.linspace()` is not the correct approach for generating random data from a normal distribution. `np.linspace()` creates a set of evenly spaced numbers, which won't simulate the randomness or statistical properties of a normal distribution.\n",
    "\n",
    "### Suggested Approach:\n",
    "- Use `np.random.normal()` or `stats.norm.rvs()` to generate your datasets. These functions create random samples that follow a normal distribution with the specified mean (μ) and standard deviation (σ).\n",
    "- This will ensure that the generated datasets reflect the natural variability expected in a normal distribution.\n",
    "\n",
    "**Clarification**: \n",
    "- **`np.linspace()`** is typically used for generating evenly spaced numbers within a range and does **not** create random samples or follow any specific statistical distribution. It is more suitable for plotting or constructing grids.\n",
    "\n",
    "For this assignment, you need to create datasets where the numbers are randomly drawn from a distribution with a **mean of 3** and a **standard deviation of 1**, rather than being evenly spaced."
   ]
  },
  {
   "cell_type": "markdown",
   "metadata": {},
   "source": [
    "Certainly! Here’s an overview of the parameters for both `np.random.normal()` and `stats.norm.rvs()` that will help you create the desired datasets:\n",
    "\n",
    "### **1. `np.random.normal()`**\n",
    "- **`loc`**: Specifies the **mean** (μ) of the normal distribution. For your case, set this to **3**.\n",
    "- **`scale`**: Specifies the **standard deviation** (σ) of the distribution. For your case, set this to **1**.\n",
    "- **`size`**: Defines the number of samples to generate. Use **100** for the first dataset and **10,000** for the second.\n",
    "\n",
    "### **2. `stats.norm.rvs()` (from `scipy.stats`)**\n",
    "- **`loc`**: Specifies the **mean** (μ) of the distribution, just like `np.random.normal()`. Set this to **3**.\n",
    "- **`scale`**: Specifies the **standard deviation** (σ) of the distribution. Set this to **1**.\n",
    "- **`size`**: Specifies the number of random samples. Use **100** for the smaller dataset and **10,000** for the larger one.\n",
    "- **`random_state`** (optional): Allows setting a seed for reproducibility, ensuring you get the same random results every time.\n",
    "\n",
    "### **Advice for Creating the Data**\n",
    "- Use these parameters to specify the distribution's properties and the number of samples to match your assignment's requirements.\n",
    "- Both functions will create random samples that follow a normal distribution with the provided mean and standard deviation.\n",
    "\n",
    "This information will help you properly use these functions to generate the desired datasets for your assignment."
   ]
  },
  {
   "cell_type": "markdown",
   "metadata": {},
   "source": []
  },
  {
   "cell_type": "code",
   "execution_count": 133,
   "metadata": {},
   "outputs": [
    {
     "data": {
      "text/plain": [
       "array([3.43796242, 1.57641726, 4.29203827, ..., 3.19024055, 4.08900955,\n",
       "       2.72258151])"
      ]
     },
     "execution_count": 133,
     "metadata": {},
     "output_type": "execute_result"
    }
   ],
   "source": [
    "dataset_2 = stats.norm.rvs(loc=3, scale=1, size=10000)\n",
    "dataset_2"
   ]
  },
  {
   "cell_type": "code",
   "execution_count": 134,
   "metadata": {},
   "outputs": [
    {
     "data": {
      "text/plain": [
       "array([3.5312252 , 2.09152778, 3.37342518, 2.95998208, 2.6214649 ,\n",
       "       2.48019217, 3.23424861, 3.52552504, 3.38847349, 1.28782848,\n",
       "       3.69024487, 3.50764435, 4.31426535, 3.13176228, 3.54117836,\n",
       "       2.9382726 , 1.98185574, 2.44732078, 2.66222704, 2.87912875,\n",
       "       3.4135073 , 4.39274057, 2.54047187, 5.23146264, 3.99074392,\n",
       "       3.37109018, 3.03123921, 3.04300984, 4.09366619, 2.96210868,\n",
       "       4.5115202 , 3.74787284, 4.38908067, 0.29061526, 4.27721542,\n",
       "       3.36992722, 2.69582323, 2.99102188, 4.43703719, 2.98058101,\n",
       "       2.74896801, 1.81976843, 2.42704502, 3.91825101, 3.54058401,\n",
       "       3.36630518, 3.51430703, 3.07922582, 2.69064028, 4.42747637,\n",
       "       2.08683291, 1.9918978 , 3.18196467, 3.71221273, 3.0711476 ,\n",
       "       4.0696084 , 3.79500117, 3.64406846, 3.73243071, 4.35243939,\n",
       "       1.85307323, 2.76483506, 0.54876957, 3.1965236 , 3.2301948 ,\n",
       "       2.28421394, 3.62652894, 1.99890519, 1.76152352, 3.06610418,\n",
       "       3.73281038, 4.25779218, 4.27890223, 2.70469609, 3.06476938,\n",
       "       2.13338769, 3.03926108, 2.78253207, 1.36208023, 1.91561256,\n",
       "       1.94365109, 2.00890757, 3.3660263 , 3.68526299, 3.62464615,\n",
       "       4.39299336, 2.1550819 , 4.20726831, 2.15879993, 4.39525794,\n",
       "       1.67541702, 5.22695145, 3.06172767, 3.65116893, 2.66646996,\n",
       "       3.08536164, 4.97976263, 1.41117941, 3.74614678, 2.06621604])"
      ]
     },
     "execution_count": 134,
     "metadata": {},
     "output_type": "execute_result"
    }
   ],
   "source": [
    "dataset_1 = np.random.normal(loc=3, scale=1, size=100)\n",
    "dataset_1"
   ]
  },
  {
   "cell_type": "code",
   "execution_count": 143,
   "metadata": {},
   "outputs": [
    {
     "data": {
      "text/plain": [
       "np.float64(3.12)"
      ]
     },
     "execution_count": 143,
     "metadata": {},
     "output_type": "execute_result"
    }
   ],
   "source": [
    "mean_dataset_1 = np.round(np.mean(dataset_1),2)\n",
    "mean_dataset_1"
   ]
  },
  {
   "cell_type": "code",
   "execution_count": 144,
   "metadata": {},
   "outputs": [
    {
     "data": {
      "text/plain": [
       "np.float64(3.0)"
      ]
     },
     "execution_count": 144,
     "metadata": {},
     "output_type": "execute_result"
    }
   ],
   "source": [
    "mean_dataset_2 = np.round(np.mean(dataset_2),2)\n",
    "mean_dataset_2"
   ]
  },
  {
   "cell_type": "code",
   "execution_count": 145,
   "metadata": {},
   "outputs": [
    {
     "data": {
      "text/plain": [
       "np.float64(3.11)"
      ]
     },
     "execution_count": 145,
     "metadata": {},
     "output_type": "execute_result"
    }
   ],
   "source": [
    "median_dataset_1 = np.round(np.median(dataset_1),2)\n",
    "median_dataset_1"
   ]
  },
  {
   "cell_type": "code",
   "execution_count": 146,
   "metadata": {},
   "outputs": [],
   "source": [
    "median_dataset_2 = np.round(np.median(dataset_2),2)"
   ]
  },
  {
   "cell_type": "code",
   "execution_count": 158,
   "metadata": {},
   "outputs": [
    {
     "name": "stdout",
     "output_type": "stream",
     "text": [
      "ModeResult(mode=np.float64(0.2906152608372672), count=np.int64(1))\n",
      "0.2906152608372672\n"
     ]
    }
   ],
   "source": [
    "mode_dataset_1 = stats.mode(dataset_1)\n",
    "print(mode_dataset_1)\n",
    "print(mode_dataset_1[0])"
   ]
  },
  {
   "cell_type": "code",
   "execution_count": 159,
   "metadata": {},
   "outputs": [
    {
     "name": "stdout",
     "output_type": "stream",
     "text": [
      "ModeResult(mode=np.float64(-0.9922585212259372), count=np.int64(1))\n",
      "-0.9922585212259372\n"
     ]
    }
   ],
   "source": [
    "mode_dataset_2 = stats.mode(dataset_2)\n",
    "print(mode_dataset_2)\n",
    "print(mode_dataset_2[0])"
   ]
  },
  {
   "cell_type": "code",
   "execution_count": 161,
   "metadata": {},
   "outputs": [
    {
     "data": {
      "text/plain": [
       "array([0.36198385, 0.14506515, 0.17333338, ..., 0.39117591, 0.2205544 ,\n",
       "       0.38330791])"
      ]
     },
     "execution_count": 161,
     "metadata": {},
     "output_type": "execute_result"
    }
   ],
   "source": [
    "x=dataset_2\n",
    "loc=3\n",
    "scale=np.std(dataset_2)\n",
    "stats.norm.pdf(x, loc, scale) # PDF (Probability Density Function)"
   ]
  },
  {
   "cell_type": "code",
   "execution_count": 162,
   "metadata": {},
   "outputs": [
    {
     "data": {
      "text/plain": [
       "array([0.66903588, 0.07761839, 0.90146493, ..., 0.57531886, 0.86153557,\n",
       "       0.39090203])"
      ]
     },
     "execution_count": 162,
     "metadata": {},
     "output_type": "execute_result"
    }
   ],
   "source": [
    "stats.norm.cdf(x, loc, scale) # CDF (Cumulative Density Function)"
   ]
  },
  {
   "cell_type": "code",
   "execution_count": 163,
   "metadata": {},
   "outputs": [
    {
     "data": {
      "text/plain": [
       "np.float64(3.0)"
      ]
     },
     "execution_count": 163,
     "metadata": {},
     "output_type": "execute_result"
    }
   ],
   "source": [
    "q=0.5 # A probability value (between 0 and 1).\n",
    "stats.norm.ppf(q, loc, scale) # PPF (Probability Point Function)"
   ]
  },
  {
   "cell_type": "code",
   "execution_count": null,
   "metadata": {},
   "outputs": [],
   "source": []
  }
 ],
 "metadata": {
  "kernelspec": {
   "display_name": "new_env",
   "language": "python",
   "name": "python3"
  },
  "language_info": {
   "codemirror_mode": {
    "name": "ipython",
    "version": 3
   },
   "file_extension": ".py",
   "mimetype": "text/x-python",
   "name": "python",
   "nbconvert_exporter": "python",
   "pygments_lexer": "ipython3",
   "version": "3.12.3"
  }
 },
 "nbformat": 4,
 "nbformat_minor": 2
}
